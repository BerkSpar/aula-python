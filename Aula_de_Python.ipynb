{
  "nbformat": 4,
  "nbformat_minor": 0,
  "metadata": {
    "colab": {
      "name": "Aula de Python",
      "provenance": [],
      "include_colab_link": true
    },
    "kernelspec": {
      "name": "python3",
      "display_name": "Python 3"
    }
  },
  "cells": [
    {
      "cell_type": "markdown",
      "metadata": {
        "id": "view-in-github",
        "colab_type": "text"
      },
      "source": [
        "<a href=\"https://colab.research.google.com/github/BerkSpar/aula-python/blob/master/Aula_de_Python.ipynb\" target=\"_parent\"><img src=\"https://colab.research.google.com/assets/colab-badge.svg\" alt=\"Open In Colab\"/></a>"
      ]
    },
    {
      "cell_type": "markdown",
      "metadata": {
        "id": "vbLNOwvWrqlw",
        "colab_type": "text"
      },
      "source": [
        "<h1>Introdução a lógica de programação com Python</h1>\n",
        "<h2>Feito por: Felipe X. Passos e Uelberte C. Pinheiro</h2>\n",
        "\n"
      ]
    },
    {
      "cell_type": "code",
      "metadata": {
        "id": "YyLXvk5CrZWD",
        "colab_type": "code",
        "colab": {}
      },
      "source": [
        "#Isso é um comentário! \n",
        "#Você pode escrever o que quiser dentro dessa linha"
      ],
      "execution_count": 0,
      "outputs": []
    },
    {
      "cell_type": "markdown",
      "metadata": {
        "id": "R-lrmRcaYBLN",
        "colab_type": "text"
      },
      "source": [
        "<h2>Entrada e Saída</h2>"
      ]
    },
    {
      "cell_type": "code",
      "metadata": {
        "id": "z3RtjFvxlcNq",
        "colab_type": "code",
        "outputId": "eac505ea-a68f-4303-f687-91b98a83026a",
        "colab": {
          "base_uri": "https://localhost:8080/",
          "height": 51
        }
      },
      "source": [
        "#Como amostrar uma mensagem na tela\n",
        "print('Olá!')\n",
        "print('Meu nome é Felipe!')"
      ],
      "execution_count": 0,
      "outputs": [
        {
          "output_type": "stream",
          "text": [
            "Olá!\n",
            "Meu nome é Felipe!\n"
          ],
          "name": "stdout"
        }
      ]
    },
    {
      "cell_type": "code",
      "metadata": {
        "id": "6Cr8lFxOJmME",
        "colab_type": "code",
        "outputId": "5fb64b4c-c2e7-41d1-dbd7-5b27d0d3bcb1",
        "colab": {
          "base_uri": "https://localhost:8080/",
          "height": 51
        }
      },
      "source": [
        "#Como receber valores a partir teclado\n",
        "texto = input ('Texto do input: ')\n",
        "print(texto)"
      ],
      "execution_count": 0,
      "outputs": [
        {
          "output_type": "stream",
          "text": [
            "Texto do input: Hello, World!\n",
            "Hello, World!\n"
          ],
          "name": "stdout"
        }
      ]
    },
    {
      "cell_type": "markdown",
      "metadata": {
        "id": "Zqw4cca6YO4m",
        "colab_type": "text"
      },
      "source": [
        "<h2>Variaveis</h2>"
      ]
    },
    {
      "cell_type": "code",
      "metadata": {
        "id": "mYtbyRONYV7g",
        "colab_type": "code",
        "colab": {}
      },
      "source": [
        "#Declarando uma váriavel \n",
        "texto   = str\n",
        "inteiro = int\n",
        "real    = float\n",
        "logico  = bool"
      ],
      "execution_count": 0,
      "outputs": []
    },
    {
      "cell_type": "markdown",
      "metadata": {
        "id": "TsSKRLIxRFp9",
        "colab_type": "text"
      },
      "source": [
        "<h2>Operadores</h2>"
      ]
    },
    {
      "cell_type": "code",
      "metadata": {
        "id": "mm-nngoeLe-m",
        "colab_type": "code",
        "outputId": "f6359930-e81d-43ec-ae8a-20ff87783fbf",
        "colab": {
          "base_uri": "https://localhost:8080/",
          "height": 85
        }
      },
      "source": [
        "#Operadores matemáticos\n",
        "soma          = 1 + 1\n",
        "subtração     = 2 - 1\n",
        "multiplicação = 2 * 3\n",
        "divisão       = 4 / 2\n",
        "\n",
        "print('Soma: ', soma)\n",
        "print('Subtração: ', subtração)\n",
        "print('Multiplicação: ', multiplicação)\n",
        "print('Divisão: ', divisão)"
      ],
      "execution_count": 0,
      "outputs": [
        {
          "output_type": "stream",
          "text": [
            "Soma:  2\n",
            "Subtração:  1\n",
            "Multiplicação:  6\n",
            "Divisão:  2.0\n"
          ],
          "name": "stdout"
        }
      ]
    },
    {
      "cell_type": "markdown",
      "metadata": {
        "id": "UoVyPB03_Wyx",
        "colab_type": "text"
      },
      "source": [
        "<h2>Operadores lógicos</h2>"
      ]
    },
    {
      "cell_type": "code",
      "metadata": {
        "colab_type": "code",
        "outputId": "229ad686-6005-4ff1-c5bf-ad647fe7e95d",
        "id": "GRe4xCZH_WWF",
        "colab": {
          "base_uri": "https://localhost:8080/",
          "height": 34
        }
      },
      "source": [
        "#Igualdade\n",
        "variavel = 2 == 2\n",
        "print(variavel)"
      ],
      "execution_count": 0,
      "outputs": [
        {
          "output_type": "stream",
          "text": [
            "True\n"
          ],
          "name": "stdout"
        }
      ]
    },
    {
      "cell_type": "code",
      "metadata": {
        "id": "8raJs_oJT5Sv",
        "colab_type": "code",
        "outputId": "8d6d7860-a184-4ff6-a211-44bdf9394561",
        "colab": {
          "base_uri": "https://localhost:8080/",
          "height": 34
        }
      },
      "source": [
        "#Diferença\n",
        "variavel = 'A' != 'B'\n",
        "print(variavel)"
      ],
      "execution_count": 0,
      "outputs": [
        {
          "output_type": "stream",
          "text": [
            "True\n"
          ],
          "name": "stdout"
        }
      ]
    },
    {
      "cell_type": "code",
      "metadata": {
        "id": "lzHxVct1UEBP",
        "colab_type": "code",
        "outputId": "261d5f74-3d95-4585-de0b-084a19beb0e3",
        "colab": {
          "base_uri": "https://localhost:8080/",
          "height": 34
        }
      },
      "source": [
        "#Maior que\n",
        "variavel = 3 < 1\n",
        "print(variavel)"
      ],
      "execution_count": 0,
      "outputs": [
        {
          "output_type": "stream",
          "text": [
            "False\n"
          ],
          "name": "stdout"
        }
      ]
    },
    {
      "cell_type": "code",
      "metadata": {
        "id": "wW3I9gHoULfv",
        "colab_type": "code",
        "outputId": "7e3427c9-af67-4536-fe15-2272d6a8b07e",
        "colab": {
          "base_uri": "https://localhost:8080/",
          "height": 34
        }
      },
      "source": [
        "#Menor que\n",
        "variavel = 3 > 1\n",
        "print(variavel)"
      ],
      "execution_count": 0,
      "outputs": [
        {
          "output_type": "stream",
          "text": [
            "True\n"
          ],
          "name": "stdout"
        }
      ]
    },
    {
      "cell_type": "markdown",
      "metadata": {
        "id": "0CtZZWNsSOyt",
        "colab_type": "text"
      },
      "source": [
        "<h2>Estruturas Condicionais</h2>"
      ]
    },
    {
      "cell_type": "code",
      "metadata": {
        "id": "X2rYJUbsNb6M",
        "colab_type": "code",
        "outputId": "f5449932-1420-4a16-8999-6df4d80d55f4",
        "colab": {
          "base_uri": "https://localhost:8080/",
          "height": 51
        }
      },
      "source": [
        "#Igualdade\n",
        "a = int(input('Entrada: '))\n",
        "\n",
        "if a == 3:\n",
        "  print('A é igual a 3!')"
      ],
      "execution_count": 0,
      "outputs": [
        {
          "output_type": "stream",
          "text": [
            "Entrada: 3\n",
            "A é igual a 3!\n"
          ],
          "name": "stdout"
        }
      ]
    },
    {
      "cell_type": "code",
      "metadata": {
        "id": "0OiXzUcsPQo1",
        "colab_type": "code",
        "outputId": "db6b268c-b93a-4788-e239-70e2e7868885",
        "colab": {
          "base_uri": "https://localhost:8080/",
          "height": 51
        }
      },
      "source": [
        "#Diferença\n",
        "a = input('Digite \"Eu estou aprendendo Python!\": ')\n",
        "\n",
        "if a != 'Eu estou aprendendo Python!':\n",
        "  print('Você não esta aprendendo!')\n",
        "else:\n",
        "  print('Você está aprendendo!')"
      ],
      "execution_count": 0,
      "outputs": [
        {
          "output_type": "stream",
          "text": [
            "Digite \"Eu estou aprendendo Python!\": Eu estou aprendendo Python!\n",
            "Você está aprendendo!\n"
          ],
          "name": "stdout"
        }
      ]
    },
    {
      "cell_type": "code",
      "metadata": {
        "id": "NoYgN-D2A0AF",
        "colab_type": "code",
        "outputId": "768a6182-b22a-47f9-9cea-29db735bba8c",
        "colab": {
          "base_uri": "https://localhost:8080/",
          "height": 34
        }
      },
      "source": [
        "#Maior que ...\n",
        "if 1 > 3:\n",
        "  print ('1 é maior que 3')\n",
        "else:\n",
        "  print ('1 não é maior que 3')"
      ],
      "execution_count": 0,
      "outputs": [
        {
          "output_type": "stream",
          "text": [
            "1 não é maior que 3\n"
          ],
          "name": "stdout"
        }
      ]
    },
    {
      "cell_type": "code",
      "metadata": {
        "id": "NFxCnEwZBIBH",
        "colab_type": "code",
        "outputId": "99313437-4032-4a4f-a463-0b80c4908c5a",
        "colab": {
          "base_uri": "https://localhost:8080/",
          "height": 34
        }
      },
      "source": [
        "#Menor que ...\n",
        "if 'A' < 'B':\n",
        "  print ('A é vem antes que B')\n",
        "else:\n",
        "  print ('A não vem antes que B')"
      ],
      "execution_count": 0,
      "outputs": [
        {
          "output_type": "stream",
          "text": [
            "A é vem antes que B\n"
          ],
          "name": "stdout"
        }
      ]
    },
    {
      "cell_type": "markdown",
      "metadata": {
        "id": "9hX4TgcmP186",
        "colab_type": "text"
      },
      "source": [
        "<h2>Exercícios</h2>\n",
        "<h4>01: Desenvolva um programa que leia as duas notas de um aluno, calcule e mostre a sua média.<h4/>"
      ]
    },
    {
      "cell_type": "code",
      "metadata": {
        "id": "nfbjOrMQMdo-",
        "colab_type": "code",
        "outputId": "ac33a87b-9f16-4a61-cd3a-5f7601879220",
        "colab": {
          "base_uri": "https://localhost:8080/",
          "height": 85
        }
      },
      "source": [
        "n1 = float(input(\"Digite a primeira nota: \"))\n",
        "n2 = float(input(\"Digite a segunda nota: \"))\n",
        "m = float((n1+n2)/2)\n",
        "print('A média é ', m) #Fazer assim é mais didático\n",
        "                       #print(\"A média é {} .\".format(m))"
      ],
      "execution_count": 0,
      "outputs": [
        {
          "output_type": "stream",
          "text": [
            "Digite a primeira nota: 10\n",
            "Digite a segunda nota: 10\n",
            "A média é  10.0\n",
            "A média é 10.0 .\n"
          ],
          "name": "stdout"
        }
      ]
    },
    {
      "cell_type": "markdown",
      "metadata": {
        "id": "XT9ckZ-K_cG7",
        "colab_type": "text"
      },
      "source": [
        "<h4>02: Desenvolva um programa que pergunte o valor por km a distância de uma viagem em Km. Levando em consideração que viagens acima de 200 km tem desconto de 5%, calcule o preço final da passagem.<h4/>\n"
      ]
    },
    {
      "cell_type": "code",
      "metadata": {
        "id": "aRNjEeoAPunk",
        "colab_type": "code",
        "outputId": "73139dd0-ac76-48b0-e187-999016c99f31",
        "colab": {
          "base_uri": "https://localhost:8080/",
          "height": 68
        }
      },
      "source": [
        "valorkm = float(input(\"Digite o valor pago por km: \"))\n",
        "dist = float(input(\"Digite a distancia percorrida em km : \"))\n",
        "valorF = valorkm*dist\n",
        "if (dist > 200):\n",
        "    valorF = valor - valor*0.05\n",
        "print('O valor final da passagem é: ', valorF) #Assim é mais didático\n",
        "                                               #print(\"O valor final da passagem é : {} Reais.\".format(valorF))    \n"
      ],
      "execution_count": 0,
      "outputs": [
        {
          "output_type": "stream",
          "text": [
            "Digite o valor pago por km: 10\n",
            "Digite a distancia percorrida em km : 2.5\n",
            "O valor final da passagem é : 25.0 Reais.\n"
          ],
          "name": "stdout"
        }
      ]
    }
  ]
}