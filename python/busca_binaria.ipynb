{
  "nbformat": 4,
  "nbformat_minor": 0,
  "metadata": {
    "colab": {
      "name": "busca_binaria.ipynb",
      "provenance": [],
      "collapsed_sections": []
    },
    "kernelspec": {
      "name": "python3",
      "display_name": "Python 3"
    }
  },
  "cells": [
    {
      "cell_type": "markdown",
      "metadata": {
        "id": "AREH6bNHTbhA"
      },
      "source": [
        "# Busca Binária\r\n",
        "\r\n",
        "## Introdução\r\n",
        "\r\n",
        "A busca binária é um algortimo de busca muito eficiente que visa ficar dividindo o vetor em dois até que não possa mais ser divido. Dessa forma, encontrando, ou não, o valor desejado no meio do vetor. Vale lembrar que uma caracterisca importante é que o vetor **necessita** estar ordenado para enfetuar tal busca.\r\n",
        "\r\n",
        "## Implementação\r\n",
        "\r\n",
        "Há duas maneiras bastante conhecidas de implementar uma busca binária em um vetor: por iteração e por recursividade. Normalmente, são utilizadas três variaveis: left, right e middle. A primeira para indicar a posição a esquerda, onde o vetor começa; A segunda da para indicar a posição a direita, onde o vetor termina; A ultima é um indice que serve para dizer qual é o nosso meio."
      ]
    },
    {
      "cell_type": "markdown",
      "metadata": {
        "id": "f-nMo72CVZg8"
      },
      "source": [
        "### Iteração\r\n",
        "\r\n",
        "Nessa implementação é utilizado um laço de repetição chamado **while** que serve para fazer as iterações. As variáveis são configuradas ao entrar função e depois o índice é configurado. Após, é feito as validações caso o elemento já tenha sido encontrado. Caso não tenha sido, as váriaveis indicando o começo e o fim do vetor são alteradas conforme o necessário."
      ]
    },
    {
      "cell_type": "code",
      "metadata": {
        "id": "U8dHji_ZMfL3"
      },
      "source": [
        "def BinarySearch(array, target):\r\n",
        "  left   = 0\r\n",
        "  right  = len(array) - 1\r\n",
        "\r\n",
        "  while(left < right):\r\n",
        "    middle = int(left + right / 2)\r\n",
        "\r\n",
        "    if (array[middle] == target):\r\n",
        "       return middle\r\n",
        "    elif (array[middle] > target):\r\n",
        "       right = middle - 1 \r\n",
        "    \r\n",
        "    left = middle + 1 \r\n",
        "  \r\n",
        "  return -1"
      ],
      "execution_count": null,
      "outputs": []
    },
    {
      "cell_type": "markdown",
      "metadata": {
        "id": "bvnqXujQYD2M"
      },
      "source": [
        "### Recursiva\r\n",
        "\r\n",
        "Este outro modo de implementação, visa chamar, caso necessário, a se mesmo até que o resultado seja retornado. Na definição da função é utilizado dois parâmetros optativos para que a chamada da função seja igual fora do escopo de implementação. Funciona de forma similar à forma iterativo, entretanto, ao invés de configurar as variáveis e continuar em um laço de repetição, a função se chama novamente."
      ]
    },
    {
      "cell_type": "code",
      "metadata": {
        "id": "6kivdVtF8YLl"
      },
      "source": [
        "def BinarySearchRec(array, target, left=0, right=-1):\n",
        "  if right == -1: right = len(array) - 1\n",
        "  if left > right: return -1\n",
        "  \n",
        "  middle = int(left + right)\n",
        "\n",
        "  if (array[middle] == target): \n",
        "    return middle\n",
        "  elif (array[middle] > target): \n",
        "    return BinarySearchRec(array, target, left, middle - 1)\n",
        "\n",
        "  return BinarySearchRec(array, target, middle + 1, right)"
      ],
      "execution_count": null,
      "outputs": []
    },
    {
      "cell_type": "markdown",
      "metadata": {
        "id": "5Su8OIbjaAJ0"
      },
      "source": [
        "## Testes\r\n",
        "\r\n",
        "Para efetuar os testes, basta rodar os blocos das funções e executar o bloco abaixo. \r\n",
        "\r\n",
        "Nota: lembre-se de que o array **necessita** estar ordenado."
      ]
    },
    {
      "cell_type": "code",
      "metadata": {
        "id": "5NuXfWL_8t2T",
        "colab": {
          "base_uri": "https://localhost:8080/"
        },
        "outputId": "6df526ac-c872-4290-f73a-c8db2bb45e59"
      },
      "source": [
        "array = [1, 2, 3, 7]\n",
        "#Basta trocar para a função desejada BinarySearch ou BinarySearchRec\n",
        "index = BinarySearch(array, 10) \n",
        "\n",
        "if index == -1:\n",
        "  print('O número não foi encontrado')\n",
        "else:\n",
        "  print(f'O número {array[index]} foi encontrado na posição {index}')"
      ],
      "execution_count": null,
      "outputs": [
        {
          "output_type": "stream",
          "text": [
            "O número não foi encontrado\n"
          ],
          "name": "stdout"
        }
      ]
    }
  ]
}